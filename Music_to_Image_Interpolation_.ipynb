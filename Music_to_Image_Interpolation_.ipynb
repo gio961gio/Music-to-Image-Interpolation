{
  "cells": [
    {
      "cell_type": "markdown",
      "metadata": {
        "id": "view-in-github",
        "colab_type": "text"
      },
      "source": [
        "<a href=\"https://colab.research.google.com/github/gio961gio/Music-to-Image-Interpolation/blob/main/Music_to_Image_Interpolation_.ipynb\" target=\"_parent\"><img src=\"https://colab.research.google.com/assets/colab-badge.svg\" alt=\"Open In Colab\"/></a>"
      ]
    },
    {
      "cell_type": "markdown",
      "metadata": {
        "id": "obap7xijCDqx"
      },
      "source": [
        "# 1) SETUP (It takes between 10 and 15 minutes)\n"
      ]
    },
    {
      "cell_type": "code",
      "execution_count": null,
      "metadata": {
        "id": "d_0uMDyov4n0",
        "cellView": "form"
      },
      "outputs": [],
      "source": [
        "# @title Clone Repository\n",
        "import sys\n",
        "\n",
        "!git clone https://github.com/gio961gio/Music-to-Image-Interpolation.git\n",
        "sys.path.append(\"/content/Music-to-Image-Interpolation/Scripts\")\n"
      ]
    },
    {
      "cell_type": "code",
      "execution_count": null,
      "metadata": {
        "cellView": "form",
        "id": "4rfjhDwnd5HY"
      },
      "outputs": [],
      "source": [
        "# @title Install Tesseract\n",
        "%%capture\n",
        "!sudo apt install tesseract-ocr"
      ]
    },
    {
      "cell_type": "code",
      "execution_count": null,
      "metadata": {
        "id": "OKbjpIol1XFx",
        "cellView": "form"
      },
      "outputs": [],
      "source": [
        "# @title Install \"anything2image\" Package\n",
        "\n",
        "!pip install anything2image"
      ]
    },
    {
      "cell_type": "code",
      "execution_count": null,
      "metadata": {
        "id": "Qg4xVf_4u9vs",
        "cellView": "form"
      },
      "outputs": [],
      "source": [
        "# @title Install Packages\n",
        "from tqdm import tqdm\n",
        "import subprocess\n",
        "\n",
        "packages_to_install = [\"diffusers\", \"pydub\", \"pytesseract\", \"torchvision==0.16.2\", \"torchaudio --upgrade\"]\n",
        "\n",
        "for package in tqdm(packages_to_install, desc=\"Installing packages\"):\n",
        "    if \"torchvision==0.16.2\" in package:\n",
        "        subprocess.run(\"pip install torchvision==0.16.2\", shell=True, capture_output=True)\n",
        "    elif \"torchaudio --upgrade\" in package:\n",
        "        subprocess.run(\"pip install torchaudio --upgrade\", shell=True, capture_output=True)\n",
        "    else:\n",
        "        subprocess.run([\"pip\", \"install\", package], capture_output=True)\n"
      ]
    },
    {
      "cell_type": "code",
      "execution_count": null,
      "metadata": {
        "id": "_E-64PVo99re",
        "cellView": "form"
      },
      "outputs": [],
      "source": [
        "# @title Install Image_Generator\n",
        "import anything2image.imagebind as ib\n",
        "import torch\n",
        "from diffusers import StableUnCLIPImg2ImgPipeline\n",
        "\n",
        "# construct models\n",
        "device = \"cuda:0\" if torch.cuda.is_available() else \"cpu\"\n",
        "pipe = StableUnCLIPImg2ImgPipeline.from_pretrained(\n",
        "    \"stabilityai/stable-diffusion-2-1-unclip\", torch_dtype=torch.float16\n",
        ").to(device)\n",
        "model = ib.imagebind_huge(pretrained=True).eval().to(device)\n",
        "\n"
      ]
    },
    {
      "cell_type": "code",
      "execution_count": null,
      "metadata": {
        "id": "FaxaokhueImJ",
        "cellView": "form"
      },
      "outputs": [],
      "source": [
        "# @title Install Inpainter\n",
        "#### Calling detexting model parts ####\n",
        "\n",
        "from detext import TesseractTextDetector, LocalSDInpainter\n",
        "\n",
        "\n",
        "text_detector = TesseractTextDetector('/usr/bin/tesseract')\n",
        "inpainter = LocalSDInpainter()\n",
        "\n"
      ]
    },
    {
      "cell_type": "code",
      "execution_count": null,
      "metadata": {
        "cellView": "form",
        "id": "D4UraAwZhv46"
      },
      "outputs": [],
      "source": [
        "# @title Create Folders\n",
        "import os\n",
        "\n",
        "# Definisci il percorso delle cartelle che desideri creare\n",
        "x = '/content/audio'\n",
        "y = '/content/audio_segments'\n",
        "\n",
        "# Utilizza la funzione os.makedirs() per creare le cartelle\n",
        "os.makedirs(x)\n",
        "os.makedirs(y)\n"
      ]
    },
    {
      "cell_type": "markdown",
      "metadata": {
        "id": "GQmMHMiye4bn"
      },
      "source": [
        "# 2) AUDIO CHOP"
      ]
    },
    {
      "cell_type": "code",
      "execution_count": null,
      "metadata": {
        "id": "2sVteOS1iuTW",
        "cellView": "form"
      },
      "outputs": [],
      "source": [
        "# @title Load Audio\n",
        "from pydub import AudioSegment\n",
        "import os\n",
        "import shutil\n",
        "import librosa\n",
        "import numpy as np\n",
        "import soundfile as sf\n",
        "\n",
        "from google.colab import files\n",
        "uploaded = files.upload()\n",
        "import shutil\n",
        "\n",
        "# Definisci il percorso della cartella di destinazione\n",
        "cartella_destinazione = '/content/audio'\n",
        "# Definisci il nome del file caricato\n",
        "nome_file_caricato = list(uploaded.keys())[0]\n",
        "\n",
        "# Sposta il file nella cartella di destinazione\n",
        "shutil.move(nome_file_caricato, cartella_destinazione)\n"
      ]
    },
    {
      "cell_type": "code",
      "execution_count": null,
      "metadata": {
        "cellView": "form",
        "id": "H9MdowXDezRD"
      },
      "outputs": [],
      "source": [
        "# @title Segments Number\n",
        "from audio_stuff import Audio_stuff\n",
        "\n",
        "num_segments = 5 # @param {type:\"number\"}\n",
        "\n",
        "\n",
        "audio_processing = Audio_stuff(num_segments)\n",
        "input_audio_path = audio_processing.input_audio_path\n",
        "\n"
      ]
    },
    {
      "cell_type": "code",
      "execution_count": null,
      "metadata": {
        "cellView": "form",
        "id": "c_dO4da0-Ayu"
      },
      "outputs": [],
      "source": [
        "# @title Audio to Image Embedding\n",
        "import os\n",
        "cartella = '/content/audio_segments'\n",
        "prompts = []\n",
        "\n",
        "from IPython.display import HTML\n",
        "from base64 import b64encode\n",
        "\n",
        "def visualize_video_colab(video_path):\n",
        "    mp4 = open(video_path,'rb').read()\n",
        "    data_url = \"data:video/mp4;base64,\" + b64encode(mp4).decode()\n",
        "    return HTML(\"\"\"\n",
        "    <video width=400 controls>\n",
        "        <source src=\"%s\" type=\"video/mp4\">\n",
        "    </video>\n",
        "    \"\"\" % data_url)\n",
        "\n",
        "\n",
        "\n",
        "with torch.no_grad():\n",
        "  for x in os.listdir(cartella):\n",
        "    audio_paths= [os.path.join(cartella, x)]\n",
        "    embeddings = model.forward({\n",
        "        ib.ModalityType.AUDIO: ib.load_and_transform_audio_data(audio_paths, device),\n",
        "    })\n",
        "    embeddings = embeddings[ib.ModalityType.AUDIO]\n",
        "    prompts.append(embeddings)\n"
      ]
    },
    {
      "cell_type": "markdown",
      "metadata": {
        "id": "X_UY8r0xAM5N"
      },
      "source": [
        "# 3) TEST"
      ]
    },
    {
      "cell_type": "code",
      "execution_count": null,
      "metadata": {
        "cellView": "form",
        "id": "41sowhp_lIKz"
      },
      "outputs": [],
      "source": [
        "# @title Generate\n",
        "from interpolation_module import walk\n",
        "from audio_stuff import stuff_for_test\n",
        "\n",
        "\n",
        "\n",
        "fps = 7 # @param {type:\"number\"}\n",
        "\n",
        "batch_size = 7 # @param {type:\"number\"}\n",
        "\n",
        "detext = True # @param {type:\"boolean\"}\n",
        "\n",
        "\n",
        "num_interpolation_steps, audio_offsets = stuff_for_test(input_audio_path,(num_segments+1),fps)\n",
        "if num_interpolation_steps[0] % batch_size!=0:\n",
        "  raise ValueError( f\" 'batch_size' value must be a divider of {num_interpolation_steps[0]} \")\n",
        "\n",
        "\n",
        "\n",
        "\n",
        "with torch.no_grad():\n",
        "    video_path = walk(prompts=prompts,\n",
        "                      seeds=[42]*len(prompts),\n",
        "                      num_interpolation_steps=num_interpolation_steps,\n",
        "                      audio_filepath=input_audio_path,\n",
        "                      audio_start_sec=audio_offsets[0],\n",
        "                      batch_size=batch_size,\n",
        "                      fps=fps,\n",
        "                      name='name',\n",
        "                      num_inference_steps=20 # @param {type:\"number\"}\n",
        "                      ,detext = detext,\n",
        "                      inpainter = inpainter,\n",
        "                      text_detector = text_detector,\n",
        "                      pipe = pipe\n",
        "                      )\n",
        "\n",
        "visualize_video_colab(video_path)"
      ]
    },
    {
      "cell_type": "code",
      "execution_count": null,
      "metadata": {
        "id": "PDu7Ta_WTO4b",
        "colab": {
          "base_uri": "https://localhost:8080/",
          "height": 17
        },
        "outputId": "ff6921c2-a4c6-49aa-f90b-1572e3166dbc",
        "cellView": "form"
      },
      "outputs": [
        {
          "output_type": "display_data",
          "data": {
            "text/plain": [
              "<IPython.core.display.Javascript object>"
            ],
            "application/javascript": [
              "\n",
              "    async function download(id, filename, size) {\n",
              "      if (!google.colab.kernel.accessAllowed) {\n",
              "        return;\n",
              "      }\n",
              "      const div = document.createElement('div');\n",
              "      const label = document.createElement('label');\n",
              "      label.textContent = `Downloading \"${filename}\": `;\n",
              "      div.appendChild(label);\n",
              "      const progress = document.createElement('progress');\n",
              "      progress.max = size;\n",
              "      div.appendChild(progress);\n",
              "      document.body.appendChild(div);\n",
              "\n",
              "      const buffers = [];\n",
              "      let downloaded = 0;\n",
              "\n",
              "      const channel = await google.colab.kernel.comms.open(id);\n",
              "      // Send a message to notify the kernel that we're ready.\n",
              "      channel.send({})\n",
              "\n",
              "      for await (const message of channel.messages) {\n",
              "        // Send a message to notify the kernel that we're ready.\n",
              "        channel.send({})\n",
              "        if (message.buffers) {\n",
              "          for (const buffer of message.buffers) {\n",
              "            buffers.push(buffer);\n",
              "            downloaded += buffer.byteLength;\n",
              "            progress.value = downloaded;\n",
              "          }\n",
              "        }\n",
              "      }\n",
              "      const blob = new Blob(buffers, {type: 'application/binary'});\n",
              "      const a = document.createElement('a');\n",
              "      a.href = window.URL.createObjectURL(blob);\n",
              "      a.download = filename;\n",
              "      div.appendChild(a);\n",
              "      a.click();\n",
              "      div.remove();\n",
              "    }\n",
              "  "
            ]
          },
          "metadata": {}
        },
        {
          "output_type": "display_data",
          "data": {
            "text/plain": [
              "<IPython.core.display.Javascript object>"
            ],
            "application/javascript": [
              "download(\"download_98365ba2-c83b-44b8-955d-4e491446afc2\", \"name.mp4\", 12305555)"
            ]
          },
          "metadata": {}
        }
      ],
      "source": [
        "# @title Download Video\n",
        "from google.colab import files\n",
        "\n",
        "# Definisci il percorso del file da scaricare\n",
        "percorso_file = \"/content/dreams/name/name.mp4\"\n",
        "\n",
        "# Scarica il file\n",
        "files.download(percorso_file)\n",
        "\n"
      ]
    },
    {
      "cell_type": "code",
      "execution_count": null,
      "metadata": {
        "cellView": "form",
        "id": "gXe9IOZ8wWH4"
      },
      "outputs": [],
      "source": [
        "# @title Reset for load a different audio track (optional)   ----> then come back to  \"2) Audio Chop\"\n",
        "\n",
        "import shutil\n",
        "import os\n",
        "\n",
        "# Percorsi delle cartelle da eliminare\n",
        "folder1_path = \"/content/audio\"\n",
        "folder2_path = \"/content/audio_segments\"\n",
        "\n",
        "# Elimina la prima cartella se esiste\n",
        "if os.path.exists(folder1_path):\n",
        "    shutil.rmtree(folder1_path)\n",
        "\n",
        "\n",
        "# Elimina la seconda cartella se esiste\n",
        "if os.path.exists(folder2_path):\n",
        "    shutil.rmtree(folder2_path)\n",
        "\n",
        "\n",
        "# Definisci il percorso delle cartelle che desideri creare\n",
        "x = '/content/audio'\n",
        "y = '/content/audio_segments'\n",
        "\n",
        "# Utilizza la funzione os.makedirs() per creare le cartelle\n",
        "os.makedirs(x)\n",
        "os.makedirs(y)\n"
      ]
    }
  ],
  "metadata": {
    "accelerator": "GPU",
    "colab": {
      "gpuType": "T4",
      "provenance": [],
      "collapsed_sections": [
        "GQmMHMiye4bn",
        "X_UY8r0xAM5N"
      ],
      "include_colab_link": true
    },
    "kernelspec": {
      "display_name": "Python 3",
      "name": "python3"
    },
    "language_info": {
      "name": "python"
    }
  },
  "nbformat": 4,
  "nbformat_minor": 0
}